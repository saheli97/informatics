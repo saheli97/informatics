{
 "cells": [
  {
   "cell_type": "markdown",
   "metadata": {
    "deletable": false,
    "editable": false,
    "nbgrader": {
     "cell_type": "markdown",
     "checksum": "84e1523aaf8f35669ea1703ba63fbc5f",
     "grade": false,
     "grade_id": "cell-655e11431a00b082",
     "locked": true,
     "schema_version": 3,
     "solution": false,
     "task": false
    }
   },
   "source": [
    "# Hello to Python with flags\n",
    "\n",
    "It is common practice to begin learning a new programming language by writing a *hello world* program. On this notebook we will say *hello world* using flags of various countries. We will draw them using an aspect ratio of 1:1, [because there are vast amount of aspect ratios of national flags](https://en.wikipedia.org/wiki/List_of_aspect_ratios_of_national_flags).\n",
    "\n",
    "Here is an example — the simplified Polish flag:"
   ]
  },
  {
   "cell_type": "code",
   "execution_count": 1,
   "metadata": {},
   "outputs": [
    {
     "data": {
      "application/vnd.jupyter.widget-view+json": {
       "model_id": "fcda822677c34e6ca516df2d06b6ff58",
       "version_major": 2,
       "version_minor": 0
      },
      "text/plain": [
       "Canvas(height=100, width=100)"
      ]
     },
     "metadata": {},
     "output_type": "display_data"
    }
   ],
   "source": [
    "from ipycanvas import Canvas  # ipycanvas is our drawing tool\n",
    "from math import pi  # we will use the number pi later for drawing circles \n",
    "\n",
    "# the Polish flag consists of two areas: white and red.\n",
    "canvas = Canvas(width=100, height=100)  # whole size of our canvas that we draw on\n",
    "canvas.fill_style = 'red'  # get the red paintbrush in our hands\n",
    "canvas.fill_rect(x=0, y=50, width=100, height=50)  # draw using the paintbrush\n",
    "canvas.stroke_rect(0, 0, 100)  # mark the boundaries\n",
    "\n",
    "canvas  # let's see what we have drawn!"
   ]
  },
  {
   "cell_type": "markdown",
   "metadata": {
    "deletable": false,
    "editable": false,
    "nbgrader": {
     "cell_type": "markdown",
     "checksum": "13b80b8980a9d1fd6b5665883b286e4d",
     "grade": false,
     "grade_id": "cell-8c85c235d86a5dc4",
     "locked": true,
     "schema_version": 3,
     "solution": false,
     "task": false
    }
   },
   "source": [
    "Now it is your turn!\n",
    "\n",
    "Replace `# YOUR CODE HERE` with your solution, and do not forget to remove `raise NotImplementedError`.\n",
    "\n",
    "## Italian flag\n",
    "\n",
    "Use `green`, `white`, and `red` rectangles. Use the same canvas size of 100x100.\n",
    "\n",
    "<img src=\"https://upload.wikimedia.org/wikipedia/en/0/03/Flag_of_Italy.svg\" width='100'>"
   ]
  },
  {
   "cell_type": "code",
   "execution_count": 17,
   "metadata": {},
   "outputs": [
    {
     "data": {
      "application/vnd.jupyter.widget-view+json": {
       "model_id": "2f4335d00d2a4ced8bea770e174a1978",
       "version_major": 2,
       "version_minor": 0
      },
      "text/plain": [
       "Canvas(height=100, width=100)"
      ]
     },
     "metadata": {},
     "output_type": "display_data"
    }
   ],
   "source": [
    "canvas = Canvas(width=100, height=100)  # whole size of our canvas that we draw on\n",
    "canvas.fill_style = 'red'  # get the red paintbrush in our hands\n",
    "canvas.fill_rect(x=66.66, y=0, width=33.3, height=100)\n",
    "canvas.fill_style = 'green'\n",
    "canvas.fill_rect(x=0, y=0, width=33.3, height=100)# draw using the paintbrush\n",
    "\n",
    "  # mark the boundaries\n",
    "\n",
    "canvas  # let's see what we have drawn!"
   ]
  },
  {
   "cell_type": "code",
   "execution_count": 45,
   "metadata": {
    "deletable": false,
    "nbgrader": {
     "cell_type": "code",
     "checksum": "c4cf9fb6f3500ea4b3ed18163030423c",
     "grade": false,
     "grade_id": "cell-894ddfde5efa2315",
     "locked": false,
     "schema_version": 3,
     "solution": true,
     "task": false
    }
   },
   "outputs": [
    {
     "data": {
      "application/vnd.jupyter.widget-view+json": {
       "model_id": "3b14f23e150a4fcd8e9b3c8d18f4c396",
       "version_major": 2,
       "version_minor": 0
      },
      "text/plain": [
       "Canvas(height=100, width=100)"
      ]
     },
     "metadata": {},
     "output_type": "display_data"
    }
   ],
   "source": [
    "# let us get a new canvas instead of drawing over the last\n",
    "canvas = Canvas(width=100, height=100)\n",
    "canvas.fill_style = 'red'\n",
    "canvas.fill_rect(x=0, y=10, width=100, height=100)\n",
    "canvas.fill_style = 'white'\n",
    "canvas.fill_rect(x=40, y=30, width=20, height=50)\n",
    "canvas.fill_rect(x=20, y=45, width=60, height=20)\n",
    "\n",
    "\n",
    "\n",
    "\n",
    "\n",
    "# draw using the paintbrush\n",
    "\n",
    "canvas"
   ]
  },
  {
   "cell_type": "markdown",
   "metadata": {
    "deletable": false,
    "editable": false,
    "nbgrader": {
     "cell_type": "markdown",
     "checksum": "bc6f374b88720e2cca1a1d9d8b121adc",
     "grade": false,
     "grade_id": "cell-b1160045c1b5cb9f",
     "locked": true,
     "schema_version": 3,
     "solution": false,
     "task": false
    }
   },
   "source": [
    "## Swiss flag\n",
    "\n",
    "<img src=\"https://upload.wikimedia.org/wikipedia/commons/f/f3/Flag_of_Switzerland.svg\" width='100'>\n",
    "\n",
    "<details><summary>Hint:</summary>\n",
    "    Use `red` and `white` rectangles. Three rectangles are enough\n",
    "</details>"
   ]
  },
  {
   "cell_type": "code",
   "execution_count": 65,
   "metadata": {
    "deletable": false,
    "nbgrader": {
     "cell_type": "code",
     "checksum": "df7802475b8814e530e4e5b6593ed882",
     "grade": false,
     "grade_id": "cell-c278ee7ce5b9c4ef",
     "locked": false,
     "schema_version": 3,
     "solution": true,
     "task": false
    }
   },
   "outputs": [
    {
     "data": {
      "application/vnd.jupyter.widget-view+json": {
       "model_id": "e01372a338264e8782be858e13268b35",
       "version_major": 2,
       "version_minor": 0
      },
      "text/plain": [
       "Canvas(height=100, width=100)"
      ]
     },
     "metadata": {},
     "output_type": "display_data"
    }
   ],
   "source": [
    "canvas = Canvas(width=100, height=100)\n",
    "canvas.fill_style = 'purple'\n",
    "canvas.fill_rect(x=0, y=10, width=100, height=100)\n",
    "canvas.fill_style = 'white'\n",
    "canvas.fill_rect(x=0, y=40, width=100, height=20)\n",
    "canvas.fill_rect(x=20, y=0, width=20, height=100)\n",
    "canvas.fill_style = 'blue'\n",
    "canvas.fill_rect(x=0, y=45, width=100, height=10)\n",
    "canvas.fill_rect(x=25, y=10, width=10, height=100)\n",
    "\n",
    "canvas"
   ]
  },
  {
   "cell_type": "markdown",
   "metadata": {
    "deletable": false,
    "editable": false,
    "nbgrader": {
     "cell_type": "markdown",
     "checksum": "1c939065b317a8b2742ba1b508f441ec",
     "grade": false,
     "grade_id": "cell-934cff69a2edc2f2",
     "locked": true,
     "schema_version": 3,
     "solution": false,
     "task": false
    }
   },
   "source": [
    "## Norwegian flag\n",
    "\n",
    "<img src=\"https://upload.wikimedia.org/wikipedia/commons/d/d9/Flag_of_Norway.svg\" width='100'>\n",
    "\n",
    "<details><summary>Hint:</summary>  \n",
    "    Use `red`, `darkblue` and `white` rectangles. You do not need to be a perfectionist.\n",
    "</details>"
   ]
  },
  {
   "cell_type": "code",
   "execution_count": 77,
   "metadata": {
    "deletable": false,
    "nbgrader": {
     "cell_type": "code",
     "checksum": "9fe1c282293901380a063032c7457c8c",
     "grade": false,
     "grade_id": "cell-9c36b6f896b26cb9",
     "locked": false,
     "schema_version": 3,
     "solution": true,
     "task": false
    }
   },
   "outputs": [
    {
     "data": {
      "application/vnd.jupyter.widget-view+json": {
       "model_id": "28c893ecedb149789b001ecb1012f30b",
       "version_major": 2,
       "version_minor": 0
      },
      "text/plain": [
       "Canvas(height=100, width=100)"
      ]
     },
     "metadata": {},
     "output_type": "display_data"
    }
   ],
   "source": [
    "canvas = Canvas(width=100, height=100)\n",
    "canvas.fill_style = 'red'\n",
    "canvas.fill_rect(x=0, y=0, width=100, height=10)\n",
    "canvas.fill_style = 'orange'\n",
    "canvas.fill_rect(x=0, y=10, width=100, height=10)\n",
    "canvas.fill_style = 'yellow'\n",
    "canvas.fill_rect(x=0, y=20, width=100, height=10)\n",
    "canvas.fill_style = 'green'\n",
    "canvas.fill_rect(x=0, y=30, width=100, height=10)\n",
    "canvas.fill_style = 'blue'\n",
    "canvas.fill_rect(x=0, y=40, width=100, height=10)\n",
    "canvas.fill_style = 'purple'\n",
    "canvas.fill_rect(x=0, y=50, width=100, height=10)\n",
    "\n",
    "\n",
    "\n",
    "canvas"
   ]
  },
  {
   "cell_type": "markdown",
   "metadata": {
    "deletable": false,
    "editable": false,
    "nbgrader": {
     "cell_type": "markdown",
     "checksum": "339f60eedf2bbdc014e0bcfabed17a93",
     "grade": false,
     "grade_id": "cell-b47d250975497a1b",
     "locked": true,
     "schema_version": 3,
     "solution": false,
     "task": false
    }
   },
   "source": [
    "## Rainbow flag\n",
    "\n",
    "<img src=\"https://upload.wikimedia.org/wikipedia/commons/4/48/Gay_Pride_Flag.svg\" width='100'>\n",
    "\n",
    "Used colors: `red`, `orange`, `yellow`, `green`, `blue`, `purple`.\n",
    "\n",
    "We have six colors here! Instead of using six `fill_rect()` instructions, we can use a `for` loop. Here is an example:"
   ]
  },
  {
   "cell_type": "code",
   "execution_count": null,
   "metadata": {},
   "outputs": [],
   "source": [
    "count = 0\n",
    "for food in ['paneer', 'pretzel', 'Weisswurst', 'kale']:\n",
    "    count = count+1\n",
    "    print(f'{count}. Today I ate {food}.')"
   ]
  },
  {
   "cell_type": "markdown",
   "metadata": {
    "deletable": false,
    "editable": false,
    "nbgrader": {
     "cell_type": "markdown",
     "checksum": "af542abf703786c17d1827931399f2db",
     "grade": false,
     "grade_id": "cell-9e392459f06830f5",
     "locked": true,
     "schema_version": 3,
     "solution": false,
     "task": false
    }
   },
   "source": [
    "In the example above we looped over the variables `food` and `count` four times. Instead of writing four lines manually, the computer increments the `count` in each *iteration* of the loop. This gives us the advantage of adding more food to our daily menu more easily.\n",
    "\n",
    "Now leverage the superpower of the `for`!\n",
    "\n",
    "<details><summary>Hint:</summary>\n",
    "    Loop over `color` and increment `y` at every iteration.\n",
    "</details>"
   ]
  },
  {
   "cell_type": "code",
   "execution_count": null,
   "metadata": {
    "deletable": false,
    "nbgrader": {
     "cell_type": "code",
     "checksum": "5d8f03cc2d9e1b631abe43278d7fecf5",
     "grade": false,
     "grade_id": "cell-580572f6617feb00",
     "locked": false,
     "schema_version": 3,
     "solution": true,
     "task": false
    }
   },
   "outputs": [],
   "source": [
    "canvas = Canvas(width=100, height=100)\n",
    "canvas.fill_style = 'sandybrown'\n",
    "canvas.fill_rect(x=0, y=0, width=100, height=33.33)\n",
    "canvas.fill_style = 'green'\n",
    "canvas.fill_rect(x=0, y=66.66, width=100, height=33.33)\n",
    "canvas.fill_arc(x=50, y=50, radius=5, start_angle=0, end_angle= 2 * pi)\n",
    "\n",
    "canvas"
   ]
  },
  {
   "cell_type": "markdown",
   "metadata": {
    "deletable": false,
    "editable": false,
    "nbgrader": {
     "cell_type": "markdown",
     "checksum": "744ee54608967ee22c6e2b9bde339f0a",
     "grade": false,
     "grade_id": "cell-a6ed90a770e58459",
     "locked": true,
     "schema_version": 3,
     "solution": false,
     "task": false
    }
   },
   "source": [
    "## Indian flag\n",
    "\n",
    "<img src=\"https://upload.wikimedia.org/wikipedia/en/4/41/Flag_of_India.svg\" width='100'>\n",
    "\n",
    "Use the colors `sandybrown`, `darkblue`, and `green`. Imitate the blue wheel in the centre using three filled circles which overlay eachother. You can draw filled circles like this:"
   ]
  },
  {
   "cell_type": "code",
   "execution_count": 86,
   "metadata": {},
   "outputs": [
    {
     "data": {
      "application/vnd.jupyter.widget-view+json": {
       "model_id": "1e47aaed7f4946c2a5a0d751d4ef3a44",
       "version_major": 2,
       "version_minor": 0
      },
      "text/plain": [
       "Canvas(height=100, width=100)"
      ]
     },
     "metadata": {},
     "output_type": "display_data"
    }
   ],
   "source": [
    "canvas.clear()\n",
    "canvas.fill_arc(x=50, y=50, radius=5, start_angle=0, end_angle= 2 * pi)\n",
    "canvas"
   ]
  },
  {
   "cell_type": "markdown",
   "metadata": {
    "deletable": false,
    "editable": false,
    "nbgrader": {
     "cell_type": "markdown",
     "checksum": "374f6cf7aa74632e73701e7b74135cfa",
     "grade": false,
     "grade_id": "cell-819f1fec58568bb4",
     "locked": true,
     "schema_version": 3,
     "solution": false,
     "task": false
    }
   },
   "source": [
    "You can also shorten `fill_arc()` like this:"
   ]
  },
  {
   "cell_type": "code",
   "execution_count": null,
   "metadata": {},
   "outputs": [],
   "source": [
    "canvas = Canvas(width=100, height=100)\n",
    "canvas.fill_arc(50, 50, 5, 0, 2 * pi)\n",
    "canvas"
   ]
  },
  {
   "cell_type": "markdown",
   "metadata": {
    "deletable": false,
    "editable": false,
    "nbgrader": {
     "cell_type": "markdown",
     "checksum": "1e70500bdd04868f2b4406e23bb0d49a",
     "grade": false,
     "grade_id": "cell-3f2073a076eaff75",
     "locked": true,
     "schema_version": 3,
     "solution": false,
     "task": false
    }
   },
   "source": [
    "Now try to imitate the Indian flag:"
   ]
  },
  {
   "cell_type": "code",
   "execution_count": null,
   "metadata": {
    "deletable": false,
    "nbgrader": {
     "cell_type": "code",
     "checksum": "15715a21579b2b580a4e3c7be896c886",
     "grade": false,
     "grade_id": "cell-9569ddefb6e13d6f",
     "locked": false,
     "schema_version": 3,
     "solution": true,
     "task": false
    }
   },
   "outputs": [],
   "source": [
    "canvas = Canvas(width=100, height=100)\n",
    "# YOUR CODE HERE\n",
    "raise NotImplementedError()\n",
    "canvas.stroke_rect(0, 0, 100)\n",
    "\n",
    "canvas"
   ]
  },
  {
   "cell_type": "markdown",
   "metadata": {
    "deletable": false,
    "editable": false,
    "nbgrader": {
     "cell_type": "markdown",
     "checksum": "a5da05cd9d8720ce6a1014c83a99e061",
     "grade": false,
     "grade_id": "cell-b1778419e1ca7fd5",
     "locked": true,
     "schema_version": 3,
     "solution": false,
     "task": false
    }
   },
   "source": [
    "## American flag\n",
    "\n",
    "<img src=\"https://upload.wikimedia.org/wikipedia/en/a/a4/Flag_of_the_United_States.svg\" width='200'>\n",
    "\n",
    "There are 7 red and 6 six white stripes. There are `(6 + 5) * 4 + 6 = 50` stars. Use 5 lines of 5 circles on each line instead of the 50 stars for convenience.\n",
    "\n",
    "If you want to repeat something 7 times use `for`:"
   ]
  },
  {
   "cell_type": "code",
   "execution_count": null,
   "metadata": {},
   "outputs": [],
   "source": [
    "canvas = Canvas(width=100, height=100)\n",
    "\n",
    "for x in range(7):  # x takes the values from 0 to 6\n",
    "    canvas.fill_arc(x*10, 50, 5, 0, 2*pi)\n",
    "canvas"
   ]
  },
  {
   "cell_type": "markdown",
   "metadata": {
    "deletable": false,
    "editable": false,
    "nbgrader": {
     "cell_type": "markdown",
     "checksum": "4ca9b0dde95f30acb26f09296d4b599a",
     "grade": false,
     "grade_id": "cell-ecdb8a039b0a5f21",
     "locked": true,
     "schema_version": 3,
     "solution": false,
     "task": false
    }
   },
   "source": [
    "To repeat something in two dimensions, we can use a `for` in `for`:"
   ]
  },
  {
   "cell_type": "code",
   "execution_count": null,
   "metadata": {},
   "outputs": [],
   "source": [
    "canvas = Canvas(width=100, height=100)\n",
    "\n",
    "for x in range(7):\n",
    "    for y in range(7):\n",
    "        canvas.fill_arc(x*10, y*10, 5, 0, 2*pi)\n",
    "canvas"
   ]
  },
  {
   "cell_type": "markdown",
   "metadata": {
    "deletable": false,
    "editable": false,
    "nbgrader": {
     "cell_type": "markdown",
     "checksum": "817ac17d955e34cfc1f4d37e78befce6",
     "grade": false,
     "grade_id": "cell-9175166a6556e7ad",
     "locked": true,
     "schema_version": 3,
     "solution": false,
     "task": false
    }
   },
   "source": [
    "Now try to imitate the American flag:"
   ]
  },
  {
   "cell_type": "code",
   "execution_count": null,
   "metadata": {
    "deletable": false,
    "nbgrader": {
     "cell_type": "code",
     "checksum": "5ebe3a429c5dbff946699b277658d7d9",
     "grade": false,
     "grade_id": "cell-ad25bf8dedb681ea",
     "locked": false,
     "schema_version": 3,
     "solution": true,
     "task": false
    }
   },
   "outputs": [],
   "source": [
    "canvas = Canvas(width=100, height=100)\n",
    "# YOUR CODE HERE\n",
    "raise NotImplementedError()\n",
    "canvas.stroke_rect(0, 0, 100)\n",
    "canvas"
   ]
  },
  {
   "cell_type": "markdown",
   "metadata": {
    "deletable": false,
    "editable": false,
    "nbgrader": {
     "cell_type": "markdown",
     "checksum": "cea81110de89e5538c9b3939ee790b4c",
     "grade": false,
     "grade_id": "cell-9708020f243d1a76",
     "locked": true,
     "schema_version": 3,
     "solution": false,
     "task": false
    }
   },
   "source": [
    "## Bonus"
   ]
  },
  {
   "cell_type": "markdown",
   "metadata": {
    "deletable": false,
    "editable": false,
    "nbgrader": {
     "cell_type": "markdown",
     "checksum": "34e672adc242c5191fe524eb22d4487e",
     "grade": false,
     "grade_id": "cell-8f3d9b811aaa4600",
     "locked": true,
     "schema_version": 3,
     "solution": false,
     "task": false
    }
   },
   "source": [
    "Is your country's flag missing? Draw it!"
   ]
  },
  {
   "cell_type": "code",
   "execution_count": null,
   "metadata": {
    "deletable": false,
    "nbgrader": {
     "cell_type": "code",
     "checksum": "7efa962fd0aca097a2b251dbc96b0e08",
     "grade": false,
     "grade_id": "cell-980b60ed568e7fbe",
     "locked": false,
     "schema_version": 3,
     "solution": true,
     "task": false
    }
   },
   "outputs": [],
   "source": [
    "canvas = Canvas(width=100, height=100)\n",
    "# YOUR CODE HERE\n",
    "raise NotImplementedError()\n",
    "canvas.stroke_rect(0, 0, 100)\n",
    "canvas"
   ]
  },
  {
   "cell_type": "markdown",
   "metadata": {
    "deletable": false,
    "editable": false,
    "nbgrader": {
     "cell_type": "markdown",
     "checksum": "52857fef1df05fc78c4a085cfe4c02a3",
     "grade": false,
     "grade_id": "cell-75022cd7da24c731",
     "locked": true,
     "schema_version": 3,
     "solution": false,
     "task": false
    }
   },
   "source": [
    "Copy one of your solutions here and change `Canvas` to `RoughCanvas` [RoughCanvas](https://ipycanvas.readthedocs.io/en/latest/rough_canvas.html). Experiment with different `Roughness`, `Fill Style`, and `Bowing` settings."
   ]
  },
  {
   "cell_type": "code",
   "execution_count": null,
   "metadata": {
    "deletable": false,
    "nbgrader": {
     "cell_type": "code",
     "checksum": "203fb385eebbc32990a42b2844a20dd7",
     "grade": false,
     "grade_id": "cell-cd072817d67f6992",
     "locked": false,
     "schema_version": 3,
     "solution": true,
     "task": false
    }
   },
   "outputs": [],
   "source": [
    "# YOUR CODE HERE\n",
    "raise NotImplementedError()"
   ]
  }
 ],
 "metadata": {
  "kernelspec": {
   "display_name": "Python 3 (ipykernel)",
   "language": "python",
   "name": "python3"
  },
  "language_info": {
   "codemirror_mode": {
    "name": "ipython",
    "version": 3
   },
   "file_extension": ".py",
   "mimetype": "text/x-python",
   "name": "python",
   "nbconvert_exporter": "python",
   "pygments_lexer": "ipython3",
   "version": "3.10.4"
  }
 },
 "nbformat": 4,
 "nbformat_minor": 4
}
